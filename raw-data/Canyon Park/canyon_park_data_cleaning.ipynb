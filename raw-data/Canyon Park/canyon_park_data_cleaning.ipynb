{
 "cells": [
  {
   "cell_type": "code",
   "execution_count": 1,
   "metadata": {},
   "outputs": [],
   "source": [
    "import pandas as pd"
   ]
  },
  {
   "cell_type": "code",
   "execution_count": 36,
   "metadata": {},
   "outputs": [],
   "source": [
    "xls = pd.ExcelFile('~/Downloads/cleaned_canyon_park_data(3).xlsx')"
   ]
  },
  {
   "cell_type": "code",
   "execution_count": 37,
   "metadata": {},
   "outputs": [],
   "source": [
    "dfs = {}\n",
    "for i, s in enumerate(xls.sheet_names):\n",
    "    name = 'df_'+str(i)\n",
    "    name = pd.read_excel(xls, s)\n",
    "    name = name[['Read Date', 'Low Meter Read', 'Consumption']]\n",
    "    name['Read Date'] = pd.to_datetime(name['Read Date'])\n",
    "    dfs[s] = name"
   ]
  },
  {
   "cell_type": "code",
   "execution_count": 38,
   "metadata": {},
   "outputs": [],
   "source": [
    "first_key = '31-013200-02'\n",
    "df_0 = dfs[first_key]\n",
    "df_0.columns = ['Read Date', 'Low Meter Read_'+first_key, 'Consumption_'+first_key]\n",
    "for key in dfs:\n",
    "    if key == '31-013200-02':\n",
    "        continue\n",
    "    else:\n",
    "        df = dfs[key]\n",
    "        columns = ['Read Date', 'Low Meter Read_'+key, 'Consumption_'+key]\n",
    "        df.columns = columns\n",
    "        df_0 = df_0.merge(df, on='Read Date', how='outer') "
   ]
  },
  {
   "cell_type": "code",
   "execution_count": 39,
   "metadata": {},
   "outputs": [],
   "source": [
    "just_consumption = df_0[['Read Date'] + [x for x in df_0.columns if 'Consumption' in x]]"
   ]
  },
  {
   "cell_type": "code",
   "execution_count": 41,
   "metadata": {},
   "outputs": [],
   "source": [
    "just_consumption.to_csv(\"canyon_park_consumption.csv\", index=False)"
   ]
  }
 ],
 "metadata": {
  "kernelspec": {
   "display_name": "Python 3",
   "language": "python",
   "name": "python3"
  },
  "language_info": {
   "codemirror_mode": {
    "name": "ipython",
    "version": 3
   },
   "file_extension": ".py",
   "mimetype": "text/x-python",
   "name": "python",
   "nbconvert_exporter": "python",
   "pygments_lexer": "ipython3",
   "version": "3.12.2"
  }
 },
 "nbformat": 4,
 "nbformat_minor": 2
}
